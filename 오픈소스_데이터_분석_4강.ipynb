{
  "nbformat": 4,
  "nbformat_minor": 0,
  "metadata": {
    "colab": {
      "provenance": [],
      "include_colab_link": true
    },
    "kernelspec": {
      "name": "python3",
      "display_name": "Python 3"
    },
    "language_info": {
      "name": "python"
    }
  },
  "cells": [
    {
      "cell_type": "markdown",
      "metadata": {
        "id": "view-in-github",
        "colab_type": "text"
      },
      "source": [
        "<a href=\"https://colab.research.google.com/github/ParkEunhee999/Data-Analysis-with-Open-Source/blob/main/%EC%98%A4%ED%94%88%EC%86%8C%EC%8A%A4_%EB%8D%B0%EC%9D%B4%ED%84%B0_%EB%B6%84%EC%84%9D_4%EA%B0%95.ipynb\" target=\"_parent\"><img src=\"https://colab.research.google.com/assets/colab-badge.svg\" alt=\"Open In Colab\"/></a>"
      ]
    },
    {
      "cell_type": "markdown",
      "source": [
        "\n",
        "\n",
        "# 오픈소스 기반 데이터 분석 4강 - 데이터 수집\n"
      ],
      "metadata": {
        "id": "DkPKaAsoRq5Q"
      }
    },
    {
      "cell_type": "markdown",
      "source": [
        "## 4-1 CSV 파일 읽기"
      ],
      "metadata": {
        "id": "-I7BVVlnRrB0"
      }
    },
    {
      "cell_type": "code",
      "source": [
        "import pandas as pd\n",
        "\n",
        "## data.csv 파일 읽기\n",
        "df = pd.read_csv('data.csv', encoding='utf-8', sep=',', header=0,\n",
        "                 index_col=None, skiprows=None, nrows=None)\n",
        "\n",
        "print(df)"
      ],
      "metadata": {
        "id": "2Y2HEiaiRwAI",
        "outputId": "5716fcce-184a-4d62-d8e5-0d079fc9b8c9",
        "colab": {
          "base_uri": "https://localhost:8080/"
        }
      },
      "execution_count": null,
      "outputs": [
        {
          "output_type": "stream",
          "name": "stdout",
          "text": [
            "           날짜    체중  골격근량  체지방량\n",
            "0  2025.02.06  64.7  30.0  11.1\n",
            "1  2025.02.04  64.0  29.3  11.6\n"
          ]
        }
      ]
    },
    {
      "cell_type": "markdown",
      "source": [
        "## 4-2 JSON 파일 읽기\n",
        "\n"
      ],
      "metadata": {
        "id": "9kHCFaGlRrE0"
      }
    },
    {
      "cell_type": "code",
      "source": [
        "import json\n",
        "import pandas as pd\n",
        "\n",
        "## data.json 파일 출력\n",
        "with open('data.json', mode='r', encoding='utf-8') as f:\n",
        "    data = json.load(f)\n",
        "print(data)\n",
        "\n",
        "## data.json 파일 DataFrame 읽기\n",
        "df = pd.read_json('data.json', orient='records', encoding='utf-8', )\n",
        "\n",
        "print(df)"
      ],
      "metadata": {
        "id": "IO8bsKekR0W_",
        "outputId": "ad229cd8-dd94-43ce-cc06-2a365bfde500",
        "colab": {
          "base_uri": "https://localhost:8080/"
        }
      },
      "execution_count": null,
      "outputs": [
        {
          "output_type": "stream",
          "name": "stdout",
          "text": [
            "{'매출데이터': [{'월': '2025-01', '매출액': 1000000, '비용': 700000, '이익': 300000}, {'월': '2025-02', '매출액': 1200000, '비용': 800000, '이익': 400000}, {'월': '2025-03', '매출액': 1500000, '비용': 900000, '이익': 600000}]}\n",
            "                                               매출데이터\n",
            "0  {'월': '2025-01', '매출액': 1000000, '비용': 700000,...\n",
            "1  {'월': '2025-02', '매출액': 1200000, '비용': 800000,...\n",
            "2  {'월': '2025-03', '매출액': 1500000, '비용': 900000,...\n"
          ]
        }
      ]
    },
    {
      "cell_type": "code",
      "source": [
        "import json\n",
        "import pandas as pd\n",
        "\n",
        "## energyinfo.json 파일 출력\n",
        "with open('energyinfo.json', mode='r', encoding='utf-8') as f:\n",
        "    data = json.load(f)\n",
        "print(data)\n",
        "\n",
        "## 데이터 변환\n",
        "result = []\n",
        "for item in data:\n",
        "    for date_key, values in item.items():\n",
        "        new_item = values.copy()\n",
        "        new_item['date'] = date_key\n",
        "        result.append(new_item)\n",
        "print(result)\n",
        "\n",
        "## json.dump를 이용한 저장\n",
        "with open('output.json', mode='w', encoding='utf-8') as f:\n",
        "    json.dump(result, f, indent=4, ensure_ascii=False)\n",
        "\n",
        "## output.json 파일 DataFrame 읽기\n",
        "#df = pd.read_json('output.json', orient='records', encoding='utf-8')\n",
        "\n",
        "df = pd.DataFrame(result)\n",
        "print(df)"
      ],
      "metadata": {
        "colab": {
          "base_uri": "https://localhost:8080/"
        },
        "id": "s-nj1cGmXfWr",
        "outputId": "f09285c5-0db9-43b8-a942-5d0eea27b86b"
      },
      "execution_count": 26,
      "outputs": [
        {
          "output_type": "stream",
          "name": "stdout",
          "text": [
            "[{'201501': {'heat': 532, 'waterHot': 132, 'gas': 5, 'elect': 674, 'waterCool': 176}}, {'201502': {'heat': 435, 'waterHot': 126, 'gas': 5, 'elect': 639, 'waterCool': 174}}, {'201503': {'heat': 329, 'waterHot': 123, 'gas': 4, 'elect': 532, 'waterCool': 173}}, {'201504': {'heat': 157, 'waterHot': 106, 'gas': 3, 'elect': 554, 'waterCool': 180}}, {'201505': {'heat': 51, 'waterHot': 88, 'gas': 2, 'elect': 506, 'waterCool': 184}}, {'201506': {'heat': 29, 'waterHot': 63, 'gas': 2, 'elect': 539, 'waterCool': 198}}, {'201507': {'heat': 25, 'waterHot': 50, 'gas': 2, 'elect': 565, 'waterCool': 200}}, {'201508': {'heat': 24, 'waterHot': 40, 'gas': 2, 'elect': 751, 'waterCool': 207}}, {'201509': {'heat': 28, 'waterHot': 52, 'gas': 2, 'elect': 531, 'waterCool': 200}}, {'201510': {'heat': 78, 'waterHot': 76, 'gas': 2, 'elect': 493, 'waterCool': 192}}, {'201511': {'heat': 236, 'waterHot': 94, 'gas': 2, 'elect': 560, 'waterCool': 187}}, {'201512': {'heat': 425, 'waterHot': 118, 'gas': 3, 'elect': 596, 'waterCool': 185}}, {'201601': {'heat': 508, 'waterHot': 127, 'gas': 3, 'elect': 655, 'waterCool': 188}}, {'201602': {'heat': 404, 'waterHot': 123, 'gas': 4, 'elect': 651, 'waterCool': 191}}, {'201603': {'heat': 256, 'waterHot': 112, 'gas': 3, 'elect': 549, 'waterCool': 188}}, {'201604': {'heat': 101, 'waterHot': 95, 'gas': 2, 'elect': 540, 'waterCool': 192}}, {'201605': {'heat': 41, 'waterHot': 75, 'gas': 1, 'elect': 498, 'waterCool': 198}}, {'201606': {'heat': 25, 'waterHot': 53, 'gas': 1, 'elect': 531, 'waterCool': 205}}, {'201607': {'heat': 23, 'waterHot': 45, 'gas': 1, 'elect': 640, 'waterCool': 211}}, {'201608': {'heat': 21, 'waterHot': 31, 'gas': 1, 'elect': 913, 'waterCool': 220}}, {'201609': {'heat': 24, 'waterHot': 41, 'gas': 1, 'elect': 399, 'waterCool': 212}}, {'201610': {'heat': 62, 'waterHot': 62, 'gas': 1, 'elect': 479, 'waterCool': 204}}, {'201611': {'heat': 212, 'waterHot': 85, 'gas': 2, 'elect': 547, 'waterCool': 199}}, {'201612': {'heat': 336, 'waterHot': 104, 'gas': 3, 'elect': 543, 'waterCool': 196}}, {'201701': {'heat': 403, 'waterHot': 114, 'gas': 3, 'elect': 565, 'waterCool': 201}}, {'201702': {'heat': 343, 'waterHot': 109, 'gas': 3, 'elect': 550, 'waterCool': 197}}, {'201703': {'heat': 249, 'waterHot': 109, 'gas': 4, 'elect': 451, 'waterCool': 194}}, {'201704': {'heat': 106, 'waterHot': 93, 'gas': 2, 'elect': 476, 'waterCool': 205}}, {'201705': {'heat': 39, 'waterHot': 75, 'gas': 2, 'elect': 441, 'waterCool': 209}}, {'201706': {'heat': 26, 'waterHot': 54, 'gas': 1, 'elect': 460, 'waterCool': 214}}, {'201707': {'heat': 23, 'waterHot': 41, 'gas': 1, 'elect': 606, 'waterCool': 221}}, {'201708': {'heat': 23, 'waterHot': 37, 'gas': 1, 'elect': 724, 'waterCool': 225}}, {'201709': {'heat': 26, 'waterHot': 47, 'gas': 1, 'elect': 494, 'waterCool': 216}}, {'201710': {'heat': 64, 'waterHot': 67, 'gas': 2, 'elect': 439, 'waterCool': 213}}, {'201711': {'heat': 225, 'waterHot': 86, 'gas': 3, 'elect': 480, 'waterCool': 207}}, {'201712': {'heat': 400, 'waterHot': 109, 'gas': 5, 'elect': 526, 'waterCool': 204}}, {'201801': {'heat': 447, 'waterHot': 118, 'gas': 4, 'elect': 576, 'waterCool': 209}}, {'201802': {'heat': 371, 'waterHot': 111, 'gas': 4, 'elect': 564, 'waterCool': 206}}, {'201803': {'heat': 221, 'waterHot': 106, 'gas': 3, 'elect': 467, 'waterCool': 203}}, {'201804': {'heat': 108, 'waterHot': 90, 'gas': 2, 'elect': 474, 'waterCool': 210}}, {'201805': {'heat': 47, 'waterHot': 77, 'gas': 2, 'elect': 446, 'waterCool': 212}}, {'201806': {'heat': 27, 'waterHot': 54, 'gas': 1, 'elect': 472, 'waterCool': 220}}, {'201807': {'heat': 24, 'waterHot': 42, 'gas': 1, 'elect': 636, 'waterCool': 229}}, {'201808': {'heat': 22, 'waterHot': 27, 'gas': 1, 'elect': 762, 'waterCool': 235}}, {'201809': {'heat': 27, 'waterHot': 45, 'gas': 1, 'elect': 485, 'waterCool': 225}}, {'201810': {'heat': 94, 'waterHot': 72, 'gas': 1, 'elect': 438, 'waterCool': 219}}, {'201811': {'heat': 193, 'waterHot': 86, 'gas': 2, 'elect': 478, 'waterCool': 214}}, {'201812': {'heat': 367, 'waterHot': 108, 'gas': 3, 'elect': 520, 'waterCool': 211}}, {'201901': {'heat': 394, 'waterHot': 116, 'gas': 3, 'elect': 567, 'waterCool': 215}}, {'201902': {'heat': 318, 'waterHot': 107, 'gas': 3, 'elect': 529, 'waterCool': 210}}, {'201903': {'heat': 220, 'waterHot': 104, 'gas': 3, 'elect': 462, 'waterCool': 206}}, {'201904': {'heat': 130, 'waterHot': 93, 'gas': 2, 'elect': 473, 'waterCool': 213}}, {'201905': {'heat': 44, 'waterHot': 75, 'gas': 2, 'elect': 443, 'waterCool': 219}}, {'201906': {'heat': 28, 'waterHot': 54, 'gas': 1, 'elect': 456, 'waterCool': 220}}, {'201907': {'heat': 25, 'waterHot': 43, 'gas': 1, 'elect': 484, 'waterCool': 227}}, {'201908': {'heat': 24, 'waterHot': 36, 'gas': 1, 'elect': 690, 'waterCool': 232}}, {'201909': {'heat': 27, 'waterHot': 46, 'gas': 1, 'elect': 527, 'waterCool': 230}}, {'201910': {'heat': 63, 'waterHot': 67, 'gas': 1, 'elect': 453, 'waterCool': 223}}, {'201911': {'heat': 198, 'waterHot': 86, 'gas': 2, 'elect': 477, 'waterCool': 218}}, {'201912': {'heat': 347, 'waterHot': 109, 'gas': 3, 'elect': 520, 'waterCool': 216}}, {'202001': {'heat': 359, 'waterHot': 116, 'gas': 3, 'elect': 561, 'waterCool': 219}}, {'202002': {'heat': 306, 'waterHot': 117, 'gas': 3, 'elect': 548, 'waterCool': 221}}, {'202003': {'heat': 221, 'waterHot': 115, 'gas': 3, 'elect': 522, 'waterCool': 223}}, {'202004': {'heat': 138, 'waterHot': 102, 'gas': 2, 'elect': 511, 'waterCool': 224}}, {'202005': {'heat': 48, 'waterHot': 82, 'gas': 2, 'elect': 483, 'waterCool': 230}}, {'202006': {'heat': 27, 'waterHot': 54, 'gas': 1, 'elect': 520, 'waterCool': 237}}, {'202007': {'heat': 25, 'waterHot': 47, 'gas': 1, 'elect': 489, 'waterCool': 237}}, {'202008': {'heat': 26, 'waterHot': 44, 'gas': 1, 'elect': 685, 'waterCool': 244}}, {'202009': {'heat': 28, 'waterHot': 50, 'gas': 1, 'elect': 636, 'waterCool': 244}}, {'202010': {'heat': 80, 'waterHot': 75, 'gas': 1, 'elect': 479, 'waterCool': 239}}, {'202011': {'heat': 185, 'waterHot': 91, 'gas': 2, 'elect': 511, 'waterCool': 232}}, {'202012': {'heat': 367, 'waterHot': 115, 'gas': 3, 'elect': 570, 'waterCool': 231}}, {'202101': {'heat': 427, 'waterHot': 126, 'gas': 3, 'elect': 628, 'waterCool': 236}}, {'202102': {'heat': 295, 'waterHot': 115, 'gas': 3, 'elect': 559, 'waterCool': 229}}, {'202103': {'heat': 189, 'waterHot': 111, 'gas': 2, 'elect': 485, 'waterCool': 225}}, {'202104': {'heat': 92, 'waterHot': 94, 'gas': 2, 'elect': 486, 'waterCool': 231}}, {'202105': {'heat': 54, 'waterHot': 82, 'gas': 2, 'elect': 470, 'waterCool': 234}}, {'202106': {'heat': 29, 'waterHot': 58, 'gas': 1, 'elect': 499, 'waterCool': 239}}, {'202107': {'heat': 25, 'waterHot': 43, 'gas': 1, 'elect': 679, 'waterCool': 248}}, {'202108': {'heat': 24, 'waterHot': 36, 'gas': 1, 'elect': 787, 'waterCool': 253}}, {'202109': {'heat': 28, 'waterHot': 48, 'gas': 1, 'elect': 537, 'waterCool': 247}}, {'202110': {'heat': 75, 'waterHot': 68, 'gas': 1, 'elect': 505, 'waterCool': 240}}, {'202111': {'heat': 186, 'waterHot': 89, 'gas': 2, 'elect': 518, 'waterCool': 235}}, {'202112': {'heat': 345, 'waterHot': 112, 'gas': 2, 'elect': 560, 'waterCool': 231}}, {'202201': {'heat': 411, 'waterHot': 123, 'gas': 3, 'elect': 620, 'waterCool': 235}}, {'202202': {'heat': 354, 'waterHot': 115, 'gas': 3, 'elect': 582, 'waterCool': 231}}, {'202203': {'heat': 227, 'waterHot': 113, 'gas': 2, 'elect': 522, 'waterCool': 227}}, {'202204': {'heat': 100, 'waterHot': 94, 'gas': 2, 'elect': 525, 'waterCool': 232}}, {'202205': {'heat': 47, 'waterHot': 77, 'gas': 2, 'elect': 493, 'waterCool': 234}}, {'202206': {'heat': 29, 'waterHot': 55, 'gas': 1, 'elect': 551, 'waterCool': 238}}, {'202207': {'heat': 27, 'waterHot': 46, 'gas': 1, 'elect': 768, 'waterCool': 245}}, {'202208': {'heat': 27, 'waterHot': 44, 'gas': 1, 'elect': 838, 'waterCool': 249}}, {'202209': {'heat': 31, 'waterHot': 55, 'gas': 1, 'elect': 609, 'waterCool': 241}}, {'202210': {'heat': 106, 'waterHot': 89, 'gas': 1, 'elect': 557, 'waterCool': 233}}, {'202211': {'heat': 201, 'waterHot': 106, 'gas': 2, 'elect': 587, 'waterCool': 230}}, {'202212': {'heat': 544, 'waterHot': 138, 'gas': 3, 'elect': 654, 'waterCool': 227}}, {'202301': {'heat': 522, 'waterHot': 148, 'gas': 3, 'elect': 754, 'waterCool': 231}}, {'202302': {'heat': 366, 'waterHot': 133, 'gas': 2, 'elect': 704, 'waterCool': 220}}, {'202303': {'heat': 215, 'waterHot': 132, 'gas': 2, 'elect': 620, 'waterCool': 218}}, {'202304': {'heat': 111, 'waterHot': 112, 'gas': 1, 'elect': 622, 'waterCool': 225}}, {'202305': {'heat': 54, 'waterHot': 95, 'gas': 1, 'elect': 616, 'waterCool': 231}}, {'202306': {'heat': 32, 'waterHot': 69, 'gas': 1, 'elect': 685, 'waterCool': 237}}, {'202307': {'heat': 30, 'waterHot': 63, 'gas': 1, 'elect': 876, 'waterCool': 244}}, {'202308': {'heat': 27, 'waterHot': 50, 'gas': 1, 'elect': 1113, 'waterCool': 250}}, {'202309': {'heat': 30, 'waterHot': 59, 'gas': 1, 'elect': 858, 'waterCool': 242}}, {'202310': {'heat': 79, 'waterHot': 94, 'gas': 1, 'elect': 664, 'waterCool': 240}}, {'202311': {'heat': 273, 'waterHot': 120, 'gas': 2, 'elect': 681, 'waterCool': 235}}, {'202312': {'heat': 491, 'waterHot': 149, 'gas': 2, 'elect': 748, 'waterCool': 232}}, {'202401': {'heat': 535, 'waterHot': 159, 'gas': 3, 'elect': 806, 'waterCool': 236}}, {'202402': {'heat': 392, 'waterHot': 148, 'gas': 3, 'elect': 755, 'waterCool': 231}}, {'202403': {'heat': 305, 'waterHot': 147, 'gas': 2, 'elect': 690, 'waterCool': 229}}, {'202404': {'heat': 95, 'waterHot': 120, 'gas': 1, 'elect': 661, 'waterCool': 235}}, {'202405': {'heat': 52, 'waterHot': 100, 'gas': 1, 'elect': 616, 'waterCool': 231}}, {'202406': {'heat': 33, 'waterHot': 74, 'gas': 1, 'elect': 681, 'waterCool': 246}}, {'202407': {'heat': 31, 'waterHot': 67, 'gas': 1, 'elect': 886, 'waterCool': 253}}, {'202408': {'heat': 28, 'waterHot': 51, 'gas': 1, 'elect': 1292, 'waterCool': 258}}, {'202409': {'heat': 28, 'waterHot': 53, 'gas': 1, 'elect': 1081, 'waterCool': 253}}, {'202410': {'heat': 64, 'waterHot': 91, 'gas': 1, 'elect': 696, 'waterCool': 246}}, {'202411': {'heat': 210, 'waterHot': 118, 'gas': 2, 'elect': 646, 'waterCool': 243}}, {'202412': {'heat': 514, 'waterHot': 155, 'gas': 3, 'elect': 711, 'waterCool': 241}}]\n",
            "[{'heat': 532, 'waterHot': 132, 'gas': 5, 'elect': 674, 'waterCool': 176, 'date': '201501'}, {'heat': 435, 'waterHot': 126, 'gas': 5, 'elect': 639, 'waterCool': 174, 'date': '201502'}, {'heat': 329, 'waterHot': 123, 'gas': 4, 'elect': 532, 'waterCool': 173, 'date': '201503'}, {'heat': 157, 'waterHot': 106, 'gas': 3, 'elect': 554, 'waterCool': 180, 'date': '201504'}, {'heat': 51, 'waterHot': 88, 'gas': 2, 'elect': 506, 'waterCool': 184, 'date': '201505'}, {'heat': 29, 'waterHot': 63, 'gas': 2, 'elect': 539, 'waterCool': 198, 'date': '201506'}, {'heat': 25, 'waterHot': 50, 'gas': 2, 'elect': 565, 'waterCool': 200, 'date': '201507'}, {'heat': 24, 'waterHot': 40, 'gas': 2, 'elect': 751, 'waterCool': 207, 'date': '201508'}, {'heat': 28, 'waterHot': 52, 'gas': 2, 'elect': 531, 'waterCool': 200, 'date': '201509'}, {'heat': 78, 'waterHot': 76, 'gas': 2, 'elect': 493, 'waterCool': 192, 'date': '201510'}, {'heat': 236, 'waterHot': 94, 'gas': 2, 'elect': 560, 'waterCool': 187, 'date': '201511'}, {'heat': 425, 'waterHot': 118, 'gas': 3, 'elect': 596, 'waterCool': 185, 'date': '201512'}, {'heat': 508, 'waterHot': 127, 'gas': 3, 'elect': 655, 'waterCool': 188, 'date': '201601'}, {'heat': 404, 'waterHot': 123, 'gas': 4, 'elect': 651, 'waterCool': 191, 'date': '201602'}, {'heat': 256, 'waterHot': 112, 'gas': 3, 'elect': 549, 'waterCool': 188, 'date': '201603'}, {'heat': 101, 'waterHot': 95, 'gas': 2, 'elect': 540, 'waterCool': 192, 'date': '201604'}, {'heat': 41, 'waterHot': 75, 'gas': 1, 'elect': 498, 'waterCool': 198, 'date': '201605'}, {'heat': 25, 'waterHot': 53, 'gas': 1, 'elect': 531, 'waterCool': 205, 'date': '201606'}, {'heat': 23, 'waterHot': 45, 'gas': 1, 'elect': 640, 'waterCool': 211, 'date': '201607'}, {'heat': 21, 'waterHot': 31, 'gas': 1, 'elect': 913, 'waterCool': 220, 'date': '201608'}, {'heat': 24, 'waterHot': 41, 'gas': 1, 'elect': 399, 'waterCool': 212, 'date': '201609'}, {'heat': 62, 'waterHot': 62, 'gas': 1, 'elect': 479, 'waterCool': 204, 'date': '201610'}, {'heat': 212, 'waterHot': 85, 'gas': 2, 'elect': 547, 'waterCool': 199, 'date': '201611'}, {'heat': 336, 'waterHot': 104, 'gas': 3, 'elect': 543, 'waterCool': 196, 'date': '201612'}, {'heat': 403, 'waterHot': 114, 'gas': 3, 'elect': 565, 'waterCool': 201, 'date': '201701'}, {'heat': 343, 'waterHot': 109, 'gas': 3, 'elect': 550, 'waterCool': 197, 'date': '201702'}, {'heat': 249, 'waterHot': 109, 'gas': 4, 'elect': 451, 'waterCool': 194, 'date': '201703'}, {'heat': 106, 'waterHot': 93, 'gas': 2, 'elect': 476, 'waterCool': 205, 'date': '201704'}, {'heat': 39, 'waterHot': 75, 'gas': 2, 'elect': 441, 'waterCool': 209, 'date': '201705'}, {'heat': 26, 'waterHot': 54, 'gas': 1, 'elect': 460, 'waterCool': 214, 'date': '201706'}, {'heat': 23, 'waterHot': 41, 'gas': 1, 'elect': 606, 'waterCool': 221, 'date': '201707'}, {'heat': 23, 'waterHot': 37, 'gas': 1, 'elect': 724, 'waterCool': 225, 'date': '201708'}, {'heat': 26, 'waterHot': 47, 'gas': 1, 'elect': 494, 'waterCool': 216, 'date': '201709'}, {'heat': 64, 'waterHot': 67, 'gas': 2, 'elect': 439, 'waterCool': 213, 'date': '201710'}, {'heat': 225, 'waterHot': 86, 'gas': 3, 'elect': 480, 'waterCool': 207, 'date': '201711'}, {'heat': 400, 'waterHot': 109, 'gas': 5, 'elect': 526, 'waterCool': 204, 'date': '201712'}, {'heat': 447, 'waterHot': 118, 'gas': 4, 'elect': 576, 'waterCool': 209, 'date': '201801'}, {'heat': 371, 'waterHot': 111, 'gas': 4, 'elect': 564, 'waterCool': 206, 'date': '201802'}, {'heat': 221, 'waterHot': 106, 'gas': 3, 'elect': 467, 'waterCool': 203, 'date': '201803'}, {'heat': 108, 'waterHot': 90, 'gas': 2, 'elect': 474, 'waterCool': 210, 'date': '201804'}, {'heat': 47, 'waterHot': 77, 'gas': 2, 'elect': 446, 'waterCool': 212, 'date': '201805'}, {'heat': 27, 'waterHot': 54, 'gas': 1, 'elect': 472, 'waterCool': 220, 'date': '201806'}, {'heat': 24, 'waterHot': 42, 'gas': 1, 'elect': 636, 'waterCool': 229, 'date': '201807'}, {'heat': 22, 'waterHot': 27, 'gas': 1, 'elect': 762, 'waterCool': 235, 'date': '201808'}, {'heat': 27, 'waterHot': 45, 'gas': 1, 'elect': 485, 'waterCool': 225, 'date': '201809'}, {'heat': 94, 'waterHot': 72, 'gas': 1, 'elect': 438, 'waterCool': 219, 'date': '201810'}, {'heat': 193, 'waterHot': 86, 'gas': 2, 'elect': 478, 'waterCool': 214, 'date': '201811'}, {'heat': 367, 'waterHot': 108, 'gas': 3, 'elect': 520, 'waterCool': 211, 'date': '201812'}, {'heat': 394, 'waterHot': 116, 'gas': 3, 'elect': 567, 'waterCool': 215, 'date': '201901'}, {'heat': 318, 'waterHot': 107, 'gas': 3, 'elect': 529, 'waterCool': 210, 'date': '201902'}, {'heat': 220, 'waterHot': 104, 'gas': 3, 'elect': 462, 'waterCool': 206, 'date': '201903'}, {'heat': 130, 'waterHot': 93, 'gas': 2, 'elect': 473, 'waterCool': 213, 'date': '201904'}, {'heat': 44, 'waterHot': 75, 'gas': 2, 'elect': 443, 'waterCool': 219, 'date': '201905'}, {'heat': 28, 'waterHot': 54, 'gas': 1, 'elect': 456, 'waterCool': 220, 'date': '201906'}, {'heat': 25, 'waterHot': 43, 'gas': 1, 'elect': 484, 'waterCool': 227, 'date': '201907'}, {'heat': 24, 'waterHot': 36, 'gas': 1, 'elect': 690, 'waterCool': 232, 'date': '201908'}, {'heat': 27, 'waterHot': 46, 'gas': 1, 'elect': 527, 'waterCool': 230, 'date': '201909'}, {'heat': 63, 'waterHot': 67, 'gas': 1, 'elect': 453, 'waterCool': 223, 'date': '201910'}, {'heat': 198, 'waterHot': 86, 'gas': 2, 'elect': 477, 'waterCool': 218, 'date': '201911'}, {'heat': 347, 'waterHot': 109, 'gas': 3, 'elect': 520, 'waterCool': 216, 'date': '201912'}, {'heat': 359, 'waterHot': 116, 'gas': 3, 'elect': 561, 'waterCool': 219, 'date': '202001'}, {'heat': 306, 'waterHot': 117, 'gas': 3, 'elect': 548, 'waterCool': 221, 'date': '202002'}, {'heat': 221, 'waterHot': 115, 'gas': 3, 'elect': 522, 'waterCool': 223, 'date': '202003'}, {'heat': 138, 'waterHot': 102, 'gas': 2, 'elect': 511, 'waterCool': 224, 'date': '202004'}, {'heat': 48, 'waterHot': 82, 'gas': 2, 'elect': 483, 'waterCool': 230, 'date': '202005'}, {'heat': 27, 'waterHot': 54, 'gas': 1, 'elect': 520, 'waterCool': 237, 'date': '202006'}, {'heat': 25, 'waterHot': 47, 'gas': 1, 'elect': 489, 'waterCool': 237, 'date': '202007'}, {'heat': 26, 'waterHot': 44, 'gas': 1, 'elect': 685, 'waterCool': 244, 'date': '202008'}, {'heat': 28, 'waterHot': 50, 'gas': 1, 'elect': 636, 'waterCool': 244, 'date': '202009'}, {'heat': 80, 'waterHot': 75, 'gas': 1, 'elect': 479, 'waterCool': 239, 'date': '202010'}, {'heat': 185, 'waterHot': 91, 'gas': 2, 'elect': 511, 'waterCool': 232, 'date': '202011'}, {'heat': 367, 'waterHot': 115, 'gas': 3, 'elect': 570, 'waterCool': 231, 'date': '202012'}, {'heat': 427, 'waterHot': 126, 'gas': 3, 'elect': 628, 'waterCool': 236, 'date': '202101'}, {'heat': 295, 'waterHot': 115, 'gas': 3, 'elect': 559, 'waterCool': 229, 'date': '202102'}, {'heat': 189, 'waterHot': 111, 'gas': 2, 'elect': 485, 'waterCool': 225, 'date': '202103'}, {'heat': 92, 'waterHot': 94, 'gas': 2, 'elect': 486, 'waterCool': 231, 'date': '202104'}, {'heat': 54, 'waterHot': 82, 'gas': 2, 'elect': 470, 'waterCool': 234, 'date': '202105'}, {'heat': 29, 'waterHot': 58, 'gas': 1, 'elect': 499, 'waterCool': 239, 'date': '202106'}, {'heat': 25, 'waterHot': 43, 'gas': 1, 'elect': 679, 'waterCool': 248, 'date': '202107'}, {'heat': 24, 'waterHot': 36, 'gas': 1, 'elect': 787, 'waterCool': 253, 'date': '202108'}, {'heat': 28, 'waterHot': 48, 'gas': 1, 'elect': 537, 'waterCool': 247, 'date': '202109'}, {'heat': 75, 'waterHot': 68, 'gas': 1, 'elect': 505, 'waterCool': 240, 'date': '202110'}, {'heat': 186, 'waterHot': 89, 'gas': 2, 'elect': 518, 'waterCool': 235, 'date': '202111'}, {'heat': 345, 'waterHot': 112, 'gas': 2, 'elect': 560, 'waterCool': 231, 'date': '202112'}, {'heat': 411, 'waterHot': 123, 'gas': 3, 'elect': 620, 'waterCool': 235, 'date': '202201'}, {'heat': 354, 'waterHot': 115, 'gas': 3, 'elect': 582, 'waterCool': 231, 'date': '202202'}, {'heat': 227, 'waterHot': 113, 'gas': 2, 'elect': 522, 'waterCool': 227, 'date': '202203'}, {'heat': 100, 'waterHot': 94, 'gas': 2, 'elect': 525, 'waterCool': 232, 'date': '202204'}, {'heat': 47, 'waterHot': 77, 'gas': 2, 'elect': 493, 'waterCool': 234, 'date': '202205'}, {'heat': 29, 'waterHot': 55, 'gas': 1, 'elect': 551, 'waterCool': 238, 'date': '202206'}, {'heat': 27, 'waterHot': 46, 'gas': 1, 'elect': 768, 'waterCool': 245, 'date': '202207'}, {'heat': 27, 'waterHot': 44, 'gas': 1, 'elect': 838, 'waterCool': 249, 'date': '202208'}, {'heat': 31, 'waterHot': 55, 'gas': 1, 'elect': 609, 'waterCool': 241, 'date': '202209'}, {'heat': 106, 'waterHot': 89, 'gas': 1, 'elect': 557, 'waterCool': 233, 'date': '202210'}, {'heat': 201, 'waterHot': 106, 'gas': 2, 'elect': 587, 'waterCool': 230, 'date': '202211'}, {'heat': 544, 'waterHot': 138, 'gas': 3, 'elect': 654, 'waterCool': 227, 'date': '202212'}, {'heat': 522, 'waterHot': 148, 'gas': 3, 'elect': 754, 'waterCool': 231, 'date': '202301'}, {'heat': 366, 'waterHot': 133, 'gas': 2, 'elect': 704, 'waterCool': 220, 'date': '202302'}, {'heat': 215, 'waterHot': 132, 'gas': 2, 'elect': 620, 'waterCool': 218, 'date': '202303'}, {'heat': 111, 'waterHot': 112, 'gas': 1, 'elect': 622, 'waterCool': 225, 'date': '202304'}, {'heat': 54, 'waterHot': 95, 'gas': 1, 'elect': 616, 'waterCool': 231, 'date': '202305'}, {'heat': 32, 'waterHot': 69, 'gas': 1, 'elect': 685, 'waterCool': 237, 'date': '202306'}, {'heat': 30, 'waterHot': 63, 'gas': 1, 'elect': 876, 'waterCool': 244, 'date': '202307'}, {'heat': 27, 'waterHot': 50, 'gas': 1, 'elect': 1113, 'waterCool': 250, 'date': '202308'}, {'heat': 30, 'waterHot': 59, 'gas': 1, 'elect': 858, 'waterCool': 242, 'date': '202309'}, {'heat': 79, 'waterHot': 94, 'gas': 1, 'elect': 664, 'waterCool': 240, 'date': '202310'}, {'heat': 273, 'waterHot': 120, 'gas': 2, 'elect': 681, 'waterCool': 235, 'date': '202311'}, {'heat': 491, 'waterHot': 149, 'gas': 2, 'elect': 748, 'waterCool': 232, 'date': '202312'}, {'heat': 535, 'waterHot': 159, 'gas': 3, 'elect': 806, 'waterCool': 236, 'date': '202401'}, {'heat': 392, 'waterHot': 148, 'gas': 3, 'elect': 755, 'waterCool': 231, 'date': '202402'}, {'heat': 305, 'waterHot': 147, 'gas': 2, 'elect': 690, 'waterCool': 229, 'date': '202403'}, {'heat': 95, 'waterHot': 120, 'gas': 1, 'elect': 661, 'waterCool': 235, 'date': '202404'}, {'heat': 52, 'waterHot': 100, 'gas': 1, 'elect': 616, 'waterCool': 231, 'date': '202405'}, {'heat': 33, 'waterHot': 74, 'gas': 1, 'elect': 681, 'waterCool': 246, 'date': '202406'}, {'heat': 31, 'waterHot': 67, 'gas': 1, 'elect': 886, 'waterCool': 253, 'date': '202407'}, {'heat': 28, 'waterHot': 51, 'gas': 1, 'elect': 1292, 'waterCool': 258, 'date': '202408'}, {'heat': 28, 'waterHot': 53, 'gas': 1, 'elect': 1081, 'waterCool': 253, 'date': '202409'}, {'heat': 64, 'waterHot': 91, 'gas': 1, 'elect': 696, 'waterCool': 246, 'date': '202410'}, {'heat': 210, 'waterHot': 118, 'gas': 2, 'elect': 646, 'waterCool': 243, 'date': '202411'}, {'heat': 514, 'waterHot': 155, 'gas': 3, 'elect': 711, 'waterCool': 241, 'date': '202412'}]\n",
            "     heat  waterHot  gas  elect  waterCool    date\n",
            "0     532       132    5    674        176  201501\n",
            "1     435       126    5    639        174  201502\n",
            "2     329       123    4    532        173  201503\n",
            "3     157       106    3    554        180  201504\n",
            "4      51        88    2    506        184  201505\n",
            "..    ...       ...  ...    ...        ...     ...\n",
            "115    28        51    1   1292        258  202408\n",
            "116    28        53    1   1081        253  202409\n",
            "117    64        91    1    696        246  202410\n",
            "118   210       118    2    646        243  202411\n",
            "119   514       155    3    711        241  202412\n",
            "\n",
            "[120 rows x 6 columns]\n"
          ]
        }
      ]
    },
    {
      "cell_type": "code",
      "source": [
        "# date 컬럼에서 year와 month 추출\n",
        "df['year'] = df['date'].str[:4]\n",
        "df['month'] = df['date'].str[4:].astype(int)\n",
        "\n",
        "# season 컬럼 추가\n",
        "def get_season(month):\n",
        "    if 3 <= month <= 5:\n",
        "        return '봄'\n",
        "    elif 6 <= month <= 8:\n",
        "        return '여름'\n",
        "    elif 9 <= month <= 11:\n",
        "        return '가을'\n",
        "    else:  # 12, 1, 2월\n",
        "        return '겨울'\n",
        "df['season'] = df['month'].apply(get_season)\n",
        "\n",
        "# 열 순서 재배치\n",
        "df = df[['date', 'year', 'season', 'heat', 'waterHot', 'gas', 'elect', 'waterCool']]\n",
        "\n",
        "print(df)"
      ],
      "metadata": {
        "id": "KLRfJ_zGSSc1",
        "outputId": "8da64dd6-b49f-4f8c-d74a-d4e5936e0fb7",
        "colab": {
          "base_uri": "https://localhost:8080/"
        }
      },
      "execution_count": 28,
      "outputs": [
        {
          "output_type": "stream",
          "name": "stdout",
          "text": [
            "       date  year season  heat  waterHot  gas  elect  waterCool\n",
            "0    201501  2015     겨울   532       132    5    674        176\n",
            "1    201502  2015     겨울   435       126    5    639        174\n",
            "2    201503  2015      봄   329       123    4    532        173\n",
            "3    201504  2015      봄   157       106    3    554        180\n",
            "4    201505  2015      봄    51        88    2    506        184\n",
            "..      ...   ...    ...   ...       ...  ...    ...        ...\n",
            "115  202408  2024     여름    28        51    1   1292        258\n",
            "116  202409  2024     가을    28        53    1   1081        253\n",
            "117  202410  2024     가을    64        91    1    696        246\n",
            "118  202411  2024     가을   210       118    2    646        243\n",
            "119  202412  2024     겨울   514       155    3    711        241\n",
            "\n",
            "[120 rows x 8 columns]\n"
          ]
        }
      ]
    },
    {
      "cell_type": "markdown",
      "source": [
        "## 4-3 텍스트 파일 읽기 및 데이터 추출"
      ],
      "metadata": {
        "id": "uLd_3A_IRrHG"
      }
    },
    {
      "cell_type": "code",
      "source": [
        "import re\n",
        "\n",
        "## 파일(callcenter20250301.log) 오픈 및 읽기\n",
        "with open('callcenter20250301.log', 'r', encoding='utf-8') as f:\n",
        "    content = f.read()\n",
        "## 주민등록번호 패턴 생성\n",
        "pattern = re.compile(r'(\\d{6})-(\\d{7})')\n",
        "\n",
        "## 주민등록번호 마스킹\n",
        "masked_content = pattern.sub(r'\\1-*******', content)\n",
        "\n",
        "## 마스킹된 파일(callcenter20250301_masked.log) 오픈 및 쓰기\n",
        "with open('callcenter20250301_masked.log', mode='w') as f:\n",
        "    f.write(masked_content)\n",
        "\n",
        "print(\"주민등록번호 마스킹 완료. 'callcenter20250301_masked.log.txt' 파일로 저장되었습니다.\")"
      ],
      "metadata": {
        "id": "60qOf7uxVdAg",
        "outputId": "e5a6967b-2ff3-41ca-b6f3-26a96ec8653f",
        "colab": {
          "base_uri": "https://localhost:8080/"
        }
      },
      "execution_count": null,
      "outputs": [
        {
          "output_type": "stream",
          "name": "stdout",
          "text": [
            "주민등록번호 마스킹 완료. 'callcenter20250301_masked.log.txt' 파일로 저장되었습니다.\n"
          ]
        }
      ]
    },
    {
      "cell_type": "markdown",
      "source": [
        "## 4-4 Open-Meteo의 무료 날씨 API를 통한 특정 지역 온도 조회"
      ],
      "metadata": {
        "id": "eOMufu5SXiAU"
      }
    },
    {
      "cell_type": "code",
      "source": [
        "import requests\n",
        "import json\n",
        "\n",
        "url = \"https://api.open-meteo.com/v1/forecast?=&=&current=temperature_2m\"\n",
        "params = {\n",
        "    \"latitude\": \"37.58638333\",\n",
        "    \"longitude\": \"127.0203333\",\n",
        "    \"current\": \"temperature_2m\"\n",
        "}\n",
        "\n",
        "try:\n",
        "    ## URL 및 파라미터 전송\n",
        "    response = requests.get(url, params=params)\n",
        "    response.raise_for_status()\n",
        "\n",
        "    ## JSON 데이터 읽기\n",
        "    data = response.json()\n",
        "\n",
        "    print(\"API 응답:\", data)\n",
        "    print(\"서울시 종로구의 현재 온도는 : {0}{1} 입니다.\".format(data['current']['temperature_2m'], data['current_units']['temperature_2m']))\n",
        "\n",
        "except requests.exceptions.RequestException as e:\n",
        "    print(f\"API 호출 실패: {e}\")\n",
        "except json.JSONDecodeError as e:\n",
        "    print(f\"JSON 파싱 실패: {e}\")"
      ],
      "metadata": {
        "id": "JpmgdsW9V0CY",
        "outputId": "d2bed2f3-f1c8-429d-e302-ebaaf2023052",
        "colab": {
          "base_uri": "https://localhost:8080/"
        }
      },
      "execution_count": null,
      "outputs": [
        {
          "output_type": "stream",
          "name": "stdout",
          "text": [
            "API 응답: {'latitude': 37.6, 'longitude': 127.0, 'generationtime_ms': 0.019788742065429688, 'utc_offset_seconds': 0, 'timezone': 'GMT', 'timezone_abbreviation': 'GMT', 'elevation': 29.0, 'current_units': {'time': 'iso8601', 'interval': 'seconds', 'temperature_2m': '°C'}, 'current': {'time': '2025-09-16T13:30', 'interval': 900, 'temperature_2m': 23.7}}\n",
            "서울시 종로구의 현재 온도는 : 23.7°C 입니다.\n"
          ]
        }
      ]
    },
    {
      "cell_type": "markdown",
      "source": [
        "## 4-5 Selenium과 lxml을 이용한 웹 스크래핑"
      ],
      "metadata": {
        "id": "RLfPaa1ZiqIC"
      }
    },
    {
      "cell_type": "code",
      "source": [
        "!curl -o google-chrome-stable_current_amd64.deb https://dl.google.com/linux/direct/google-chrome-stable_current_amd64.deb\n",
        "!apt install ./google-chrome-stable_current_amd64.deb -y\n",
        "!pip install selenium webdriver_manager"
      ],
      "metadata": {
        "id": "79dmM7MNk8pB",
        "outputId": "3b9db561-4b57-4866-a0db-28c3b2d9e2aa",
        "colab": {
          "base_uri": "https://localhost:8080/"
        }
      },
      "execution_count": null,
      "outputs": [
        {
          "output_type": "stream",
          "name": "stdout",
          "text": [
            "  % Total    % Received % Xferd  Average Speed   Time    Time     Time  Current\n",
            "                                 Dload  Upload   Total   Spent    Left  Speed\n",
            "100  115M  100  115M    0     0  19.7M      0  0:00:05  0:00:05 --:--:-- 24.1M\n",
            "Reading package lists... Done\n",
            "Building dependency tree... Done\n",
            "Reading state information... Done\n",
            "Note, selecting 'google-chrome-stable' instead of './google-chrome-stable_current_amd64.deb'\n",
            "google-chrome-stable is already the newest version (140.0.7339.127-1).\n",
            "0 upgraded, 0 newly installed, 0 to remove and 35 not upgraded.\n",
            "Requirement already satisfied: selenium in /usr/local/lib/python3.12/dist-packages (4.35.0)\n",
            "Requirement already satisfied: webdriver_manager in /usr/local/lib/python3.12/dist-packages (4.0.2)\n",
            "Requirement already satisfied: urllib3<3.0,>=2.5.0 in /usr/local/lib/python3.12/dist-packages (from urllib3[socks]<3.0,>=2.5.0->selenium) (2.5.0)\n",
            "Requirement already satisfied: trio~=0.30.0 in /usr/local/lib/python3.12/dist-packages (from selenium) (0.30.0)\n",
            "Requirement already satisfied: trio-websocket~=0.12.2 in /usr/local/lib/python3.12/dist-packages (from selenium) (0.12.2)\n",
            "Requirement already satisfied: certifi>=2025.6.15 in /usr/local/lib/python3.12/dist-packages (from selenium) (2025.8.3)\n",
            "Requirement already satisfied: typing_extensions~=4.14.0 in /usr/local/lib/python3.12/dist-packages (from selenium) (4.14.1)\n",
            "Requirement already satisfied: websocket-client~=1.8.0 in /usr/local/lib/python3.12/dist-packages (from selenium) (1.8.0)\n",
            "Requirement already satisfied: requests in /usr/local/lib/python3.12/dist-packages (from webdriver_manager) (2.32.4)\n",
            "Requirement already satisfied: python-dotenv in /usr/local/lib/python3.12/dist-packages (from webdriver_manager) (1.1.1)\n",
            "Requirement already satisfied: packaging in /usr/local/lib/python3.12/dist-packages (from webdriver_manager) (25.0)\n",
            "Requirement already satisfied: attrs>=23.2.0 in /usr/local/lib/python3.12/dist-packages (from trio~=0.30.0->selenium) (25.3.0)\n",
            "Requirement already satisfied: sortedcontainers in /usr/local/lib/python3.12/dist-packages (from trio~=0.30.0->selenium) (2.4.0)\n",
            "Requirement already satisfied: idna in /usr/local/lib/python3.12/dist-packages (from trio~=0.30.0->selenium) (3.10)\n",
            "Requirement already satisfied: outcome in /usr/local/lib/python3.12/dist-packages (from trio~=0.30.0->selenium) (1.3.0.post0)\n",
            "Requirement already satisfied: sniffio>=1.3.0 in /usr/local/lib/python3.12/dist-packages (from trio~=0.30.0->selenium) (1.3.1)\n",
            "Requirement already satisfied: wsproto>=0.14 in /usr/local/lib/python3.12/dist-packages (from trio-websocket~=0.12.2->selenium) (1.2.0)\n",
            "Requirement already satisfied: pysocks!=1.5.7,<2.0,>=1.5.6 in /usr/local/lib/python3.12/dist-packages (from urllib3[socks]<3.0,>=2.5.0->selenium) (1.7.1)\n",
            "Requirement already satisfied: charset_normalizer<4,>=2 in /usr/local/lib/python3.12/dist-packages (from requests->webdriver_manager) (3.4.3)\n",
            "Requirement already satisfied: h11<1,>=0.9.0 in /usr/local/lib/python3.12/dist-packages (from wsproto>=0.14->trio-websocket~=0.12.2->selenium) (0.16.0)\n"
          ]
        }
      ]
    },
    {
      "cell_type": "code",
      "source": [
        "from selenium import webdriver\n",
        "from selenium.webdriver.chrome.service import Service as ChromeService\n",
        "from webdriver_manager.chrome import ChromeDriverManager\n",
        "from selenium.webdriver.common.by import By\n",
        "from lxml import html\n",
        "import time\n",
        "\n",
        "chrome_options = webdriver.ChromeOptions()\n",
        "chrome_options.add_argument('--headless')               # 브라우저 창 없이 실행\n",
        "chrome_options.add_argument('--no-sandbox')             # 보안모드 비활성화 (Colab 필수)\n",
        "chrome_options.add_argument('--disable-dev-shm-usage')  # 메모리 부족 방지 (Colab 필수)\n",
        "chrome_options.add_argument('--window-size=1920x1080')  # 창 크기 설정(가상)\n",
        "chrome_options.add_argument('--disable-gpu')            # GPU 가속 비활성화 (일부 환경 안정성)\n",
        "chrome_options.binary_location = \"/usr/bin/google-chrome-stable\"  # Colab용 크롬 경로 지정\n",
        "\n",
        "## 드라이버 실행\n",
        "driver = webdriver.Chrome(options=chrome_options)\n",
        "\n",
        "## 사이트 접속\n",
        "url = 'https://github.com/jaehwachung/Data-Analysis-with-Open-Source'\n",
        "driver.get(url)\n",
        "\n",
        "## 사이트 접속 대기\n",
        "time.sleep(2)\n",
        "\n",
        "## 페이지 제목 출력\n",
        "page_source = driver.page_source\n",
        "tree = html.fromstring(page_source)\n",
        "\n",
        "title_text = tree.xpath('//title/text()')\n",
        "print(title_text)\n",
        "\n",
        "## 드라이버 종료\n",
        "driver.quit()"
      ],
      "metadata": {
        "id": "cRC8x3_iW0im",
        "outputId": "29afcf6c-ec47-4290-9522-a4c7cda082b0",
        "colab": {
          "base_uri": "https://localhost:8080/"
        }
      },
      "execution_count": null,
      "outputs": [
        {
          "output_type": "stream",
          "name": "stdout",
          "text": [
            "['GitHub - jaehwachung/Data-Analysis-with-Open-Source: Data Analysis with Open Source']\n"
          ]
        }
      ]
    },
    {
      "cell_type": "markdown",
      "source": [
        "\n",
        "# 실습 시나리오"
      ],
      "metadata": {
        "id": "Bu6OMZyGirOq"
      }
    },
    {
      "cell_type": "markdown",
      "source": [
        "## 공공데이터 포털 가입 및 데이터 신청\n",
        "\n",
        "- [https://www.data.go.kr](https://www.data.go.kr)\n",
        "- 한국환경공단 에어코리아 대기오염정보 데이터 신청"
      ],
      "metadata": {
        "id": "nsuqRN9RkZlW"
      }
    },
    {
      "cell_type": "code",
      "source": [
        "import requests\n",
        "\n",
        "## 데이터 수집 url 및 api key 설정\n",
        "url = 'http://apis.data.go.kr/B552584/ArpltnInforInqireSvc/getCtprvnRltmMesureDnsty'\n",
        "api_key = ''\n",
        "\n",
        "params = {\n",
        "    'serviceKey': api_key,\n",
        "    'returnType': 'json',\n",
        "    'numOfRows': '100',\n",
        "    'pageNo': '1',\n",
        "    'sidoName': '서울',\n",
        "    'ver': '1.0'\n",
        "}\n",
        "\n",
        "## 데이터 수집\n",
        "response = requests.get(url, params=params)\n",
        "\n",
        "## 호출 성공/실패 출력\n",
        "print(response.json())\n"
      ],
      "metadata": {
        "id": "7yCozmQeXJcO",
        "outputId": "aef13b7c-e932-425b-8e84-61f93c83f25e",
        "colab": {
          "base_uri": "https://localhost:8080/"
        }
      },
      "execution_count": null,
      "outputs": [
        {
          "output_type": "stream",
          "name": "stdout",
          "text": [
            "{'response': {'body': {'totalCount': 40, 'items': [{'so2Grade': '1', 'coFlag': None, 'khaiValue': '39', 'so2Value': '0.002', 'coValue': '0.4', 'pm25Flag': None, 'pm10Flag': None, 'o3Grade': '1', 'pm10Value': '11', 'khaiGrade': '1', 'pm25Value': '8', 'sidoName': '서울', 'no2Flag': None, 'no2Grade': '1', 'o3Flag': None, 'pm25Grade': '1', 'so2Flag': None, 'dataTime': '2025-09-16 23:00', 'coGrade': '1', 'no2Value': '0.024', 'stationName': '중구', 'pm10Grade': '1', 'o3Value': '0.022'}, {'so2Grade': '1', 'coFlag': None, 'khaiValue': '39', 'so2Value': '0.003', 'coValue': '0.5', 'pm25Flag': None, 'pm10Flag': None, 'o3Grade': '1', 'pm10Value': '9', 'khaiGrade': '1', 'pm25Value': '8', 'sidoName': '서울', 'no2Flag': None, 'no2Grade': '1', 'o3Flag': None, 'pm25Grade': '1', 'so2Flag': None, 'dataTime': '2025-09-16 23:00', 'coGrade': '1', 'no2Value': '0.023', 'stationName': '한강대로', 'pm10Grade': '1', 'o3Value': '0.016'}, {'so2Grade': '1', 'coFlag': None, 'khaiValue': '42', 'so2Value': '0.003', 'coValue': '0.4', 'pm25Flag': None, 'pm10Flag': None, 'o3Grade': '1', 'pm10Value': '10', 'khaiGrade': '1', 'pm25Value': '7', 'sidoName': '서울', 'no2Flag': None, 'no2Grade': '1', 'o3Flag': None, 'pm25Grade': '1', 'so2Flag': None, 'dataTime': '2025-09-16 23:00', 'coGrade': '1', 'no2Value': '0.025', 'stationName': '종로구', 'pm10Grade': '1', 'o3Value': '0.023'}, {'so2Grade': '1', 'coFlag': None, 'khaiValue': '52', 'so2Value': '0.003', 'coValue': '0.6', 'pm25Flag': None, 'pm10Flag': None, 'o3Grade': '1', 'pm10Value': '15', 'khaiGrade': '2', 'pm25Value': '7', 'sidoName': '서울', 'no2Flag': None, 'no2Grade': '2', 'o3Flag': None, 'pm25Grade': '1', 'so2Flag': None, 'dataTime': '2025-09-16 23:00', 'coGrade': '1', 'no2Value': '0.031', 'stationName': '청계천로', 'pm10Grade': '1', 'o3Value': '0.011'}, {'so2Grade': '1', 'coFlag': None, 'khaiValue': '36', 'so2Value': '0.002', 'coValue': '0.5', 'pm25Flag': None, 'pm10Flag': None, 'o3Grade': '1', 'pm10Value': '13', 'khaiGrade': '1', 'pm25Value': '6', 'sidoName': '서울', 'no2Flag': None, 'no2Grade': '1', 'o3Flag': None, 'pm25Grade': '1', 'so2Flag': None, 'dataTime': '2025-09-16 23:00', 'coGrade': '1', 'no2Value': '0.021', 'stationName': '종로', 'pm10Grade': '1', 'o3Value': '0.012'}, {'so2Grade': '1', 'coFlag': None, 'khaiValue': '47', 'so2Value': '0.002', 'coValue': '0.5', 'pm25Flag': None, 'pm10Flag': None, 'o3Grade': '1', 'pm10Value': '10', 'khaiGrade': '1', 'pm25Value': '5', 'sidoName': '서울', 'no2Flag': None, 'no2Grade': '1', 'o3Flag': None, 'pm25Grade': '1', 'so2Flag': None, 'dataTime': '2025-09-16 23:00', 'coGrade': '1', 'no2Value': '0.028', 'stationName': '용산구', 'pm10Grade': '1', 'o3Value': '0.011'}, {'so2Grade': '1', 'coFlag': None, 'khaiValue': '35', 'so2Value': '0.003', 'coValue': '0.5', 'pm25Flag': None, 'pm10Flag': None, 'o3Grade': '1', 'pm10Value': '10', 'khaiGrade': '1', 'pm25Value': '5', 'sidoName': '서울', 'no2Flag': None, 'no2Grade': '1', 'o3Flag': None, 'pm25Grade': '1', 'so2Flag': None, 'dataTime': '2025-09-16 23:00', 'coGrade': '1', 'no2Value': '0.021', 'stationName': '광진구', 'pm10Grade': '1', 'o3Value': '0.020'}, {'so2Grade': '1', 'coFlag': None, 'khaiValue': '-', 'so2Value': '0.002', 'coValue': '0.3', 'pm25Flag': None, 'pm10Flag': '통신장애', 'o3Grade': '1', 'pm10Value': '-', 'khaiGrade': None, 'pm25Value': '12', 'sidoName': '서울', 'no2Flag': None, 'no2Grade': '1', 'o3Flag': None, 'pm25Grade': '1', 'so2Flag': None, 'dataTime': '2025-09-16 23:00', 'coGrade': '1', 'no2Value': '0.020', 'stationName': '성동구', 'pm10Grade': None, 'o3Value': '0.019'}, {'so2Grade': '1', 'coFlag': None, 'khaiValue': '36', 'so2Value': '0.003', 'coValue': '0.5', 'pm25Flag': None, 'pm10Flag': None, 'o3Grade': '1', 'pm10Value': '9', 'khaiGrade': '1', 'pm25Value': '4', 'sidoName': '서울', 'no2Flag': None, 'no2Grade': '1', 'o3Flag': None, 'pm25Grade': '1', 'so2Flag': None, 'dataTime': '2025-09-16 23:00', 'coGrade': '1', 'no2Value': '0.022', 'stationName': '강변북로', 'pm10Grade': '1', 'o3Value': '0.013'}, {'so2Grade': '1', 'coFlag': None, 'khaiValue': '43', 'so2Value': '0.002', 'coValue': '0.3', 'pm25Flag': None, 'pm10Flag': None, 'o3Grade': '1', 'pm10Value': '11', 'khaiGrade': '1', 'pm25Value': '5', 'sidoName': '서울', 'no2Flag': None, 'no2Grade': '1', 'o3Flag': None, 'pm25Grade': '1', 'so2Flag': None, 'dataTime': '2025-09-16 23:00', 'coGrade': '1', 'no2Value': '0.014', 'stationName': '중랑구', 'pm10Grade': '1', 'o3Value': '0.026'}, {'so2Grade': '1', 'coFlag': None, 'khaiValue': '43', 'so2Value': '0.002', 'coValue': '0.4', 'pm25Flag': None, 'pm10Flag': None, 'o3Grade': '1', 'pm10Value': '11', 'khaiGrade': '1', 'pm25Value': '5', 'sidoName': '서울', 'no2Flag': None, 'no2Grade': '1', 'o3Flag': None, 'pm25Grade': '1', 'so2Flag': None, 'dataTime': '2025-09-16 23:00', 'coGrade': '1', 'no2Value': '0.026', 'stationName': '동대문구', 'pm10Grade': '1', 'o3Value': '0.017'}, {'so2Grade': '1', 'coFlag': None, 'khaiValue': '38', 'so2Value': '0.003', 'coValue': '0.4', 'pm25Flag': None, 'pm10Flag': None, 'o3Grade': '1', 'pm10Value': '14', 'khaiGrade': '1', 'pm25Value': '3', 'sidoName': '서울', 'no2Flag': None, 'no2Grade': '1', 'o3Flag': None, 'pm25Grade': '1', 'so2Flag': None, 'dataTime': '2025-09-16 23:00', 'coGrade': '1', 'no2Value': '0.023', 'stationName': '홍릉로', 'pm10Grade': '1', 'o3Value': '0.018'}, {'so2Grade': '1', 'coFlag': None, 'khaiValue': '34', 'so2Value': '0.003', 'coValue': '0.4', 'pm25Flag': None, 'pm10Flag': None, 'o3Grade': '1', 'pm10Value': '15', 'khaiGrade': '1', 'pm25Value': '9', 'sidoName': '서울', 'no2Flag': None, 'no2Grade': '1', 'o3Flag': None, 'pm25Grade': '1', 'so2Flag': None, 'dataTime': '2025-09-16 23:00', 'coGrade': '1', 'no2Value': '0.021', 'stationName': '성북구', 'pm10Grade': '1', 'o3Value': '0.016'}, {'so2Grade': '1', 'coFlag': None, 'khaiValue': '55', 'so2Value': '0.003', 'coValue': '0.5', 'pm25Flag': None, 'pm10Flag': None, 'o3Grade': '1', 'pm10Value': '14', 'khaiGrade': '2', 'pm25Value': '4', 'sidoName': '서울', 'no2Flag': None, 'no2Grade': '2', 'o3Flag': None, 'pm25Grade': '1', 'so2Flag': None, 'dataTime': '2025-09-16 23:00', 'coGrade': '1', 'no2Value': '0.033', 'stationName': '정릉로', 'pm10Grade': '1', 'o3Value': '0.010'}, {'so2Grade': '1', 'coFlag': None, 'khaiValue': '38', 'so2Value': '0.003', 'coValue': '0.4', 'pm25Flag': None, 'pm10Flag': None, 'o3Grade': '1', 'pm10Value': '17', 'khaiGrade': '1', 'pm25Value': '8', 'sidoName': '서울', 'no2Flag': None, 'no2Grade': '1', 'o3Flag': None, 'pm25Grade': '1', 'so2Flag': None, 'dataTime': '2025-09-16 23:00', 'coGrade': '1', 'no2Value': '0.023', 'stationName': '도봉구', 'pm10Grade': '1', 'o3Value': '0.010'}, {'so2Grade': '1', 'coFlag': None, 'khaiValue': '36', 'so2Value': '0.002', 'coValue': '0.5', 'pm25Flag': None, 'pm10Flag': None, 'o3Grade': '1', 'pm10Value': '11', 'khaiGrade': '1', 'pm25Value': '2', 'sidoName': '서울', 'no2Flag': None, 'no2Grade': '1', 'o3Flag': None, 'pm25Grade': '1', 'so2Flag': None, 'dataTime': '2025-09-16 23:00', 'coGrade': '1', 'no2Value': '0.011', 'stationName': '은평구', 'pm10Grade': '1', 'o3Value': '0.021'}, {'so2Grade': '1', 'coFlag': None, 'khaiValue': '35', 'so2Value': '0.003', 'coValue': '0.5', 'pm25Flag': None, 'pm10Flag': None, 'o3Grade': '1', 'pm10Value': '11', 'khaiGrade': '1', 'pm25Value': '8', 'sidoName': '서울', 'no2Flag': None, 'no2Grade': '1', 'o3Flag': None, 'pm25Grade': '1', 'so2Flag': None, 'dataTime': '2025-09-16 23:00', 'coGrade': '1', 'no2Value': '0.011', 'stationName': '서대문구', 'pm10Grade': '1', 'o3Value': '0.021'}, {'so2Grade': '1', 'coFlag': None, 'khaiValue': '49', 'so2Value': '0.003', 'coValue': '0.4', 'pm25Flag': None, 'pm10Flag': None, 'o3Grade': '1', 'pm10Value': '12', 'khaiGrade': '1', 'pm25Value': '4', 'sidoName': '서울', 'no2Flag': None, 'no2Grade': '1', 'o3Flag': None, 'pm25Grade': '1', 'so2Flag': None, 'dataTime': '2025-09-16 23:00', 'coGrade': '1', 'no2Value': '0.020', 'stationName': '마포구', 'pm10Grade': '1', 'o3Value': '0.029'}, {'so2Grade': '1', 'coFlag': None, 'khaiValue': '-', 'so2Value': '0.003', 'coValue': '0.5', 'pm25Flag': None, 'pm10Flag': None, 'o3Grade': '1', 'pm10Value': '15', 'khaiGrade': None, 'pm25Value': '6', 'sidoName': '서울', 'no2Flag': None, 'no2Grade': '1', 'o3Flag': None, 'pm25Grade': None, 'so2Flag': None, 'dataTime': '2025-09-16 23:00', 'coGrade': '1', 'no2Value': '0.023', 'stationName': '신촌로', 'pm10Grade': None, 'o3Value': '0.023'}, {'so2Grade': '1', 'coFlag': None, 'khaiValue': '41', 'so2Value': '0.003', 'coValue': '0.3', 'pm25Flag': None, 'pm10Flag': None, 'o3Grade': '1', 'pm10Value': '10', 'khaiGrade': '1', 'pm25Value': '5', 'sidoName': '서울', 'no2Flag': None, 'no2Grade': '1', 'o3Flag': None, 'pm25Grade': '1', 'so2Flag': None, 'dataTime': '2025-09-16 23:00', 'coGrade': '1', 'no2Value': '0.015', 'stationName': '강서구', 'pm10Grade': '1', 'o3Value': '0.024'}, {'so2Grade': '1', 'coFlag': None, 'khaiValue': '36', 'so2Value': '0.002', 'coValue': '0.4', 'pm25Flag': None, 'pm10Flag': None, 'o3Grade': '1', 'pm10Value': '14', 'khaiGrade': '1', 'pm25Value': '9', 'sidoName': '서울', 'no2Flag': None, 'no2Grade': '1', 'o3Flag': None, 'pm25Grade': '1', 'so2Flag': None, 'dataTime': '2025-09-16 23:00', 'coGrade': '1', 'no2Value': '0.022', 'stationName': '공항대로', 'pm10Grade': '1', 'o3Value': '0.019'}, {'so2Grade': '1', 'coFlag': None, 'khaiValue': '45', 'so2Value': '0.003', 'coValue': '0.3', 'pm25Flag': None, 'pm10Flag': None, 'o3Grade': '1', 'pm10Value': '19', 'khaiGrade': '1', 'pm25Value': '8', 'sidoName': '서울', 'no2Flag': None, 'no2Grade': '1', 'o3Flag': None, 'pm25Grade': '1', 'so2Flag': None, 'dataTime': '2025-09-16 23:00', 'coGrade': '1', 'no2Value': '0.016', 'stationName': '구로구', 'pm10Grade': '1', 'o3Value': '0.027'}, {'so2Grade': '1', 'coFlag': None, 'khaiValue': '45', 'so2Value': '0.002', 'coValue': '0.3', 'pm25Flag': None, 'pm10Flag': None, 'o3Grade': '1', 'pm10Value': '10', 'khaiGrade': '1', 'pm25Value': '7', 'sidoName': '서울', 'no2Flag': None, 'no2Grade': '1', 'o3Flag': None, 'pm25Grade': '1', 'so2Flag': None, 'dataTime': '2025-09-16 23:00', 'coGrade': '1', 'no2Value': '0.017', 'stationName': '영등포구', 'pm10Grade': '1', 'o3Value': '0.027'}, {'so2Grade': '1', 'coFlag': None, 'khaiValue': '40', 'so2Value': '0.003', 'coValue': '0.4', 'pm25Flag': None, 'pm10Flag': None, 'o3Grade': '1', 'pm10Value': '11', 'khaiGrade': '1', 'pm25Value': '4', 'sidoName': '서울', 'no2Flag': None, 'no2Grade': '1', 'o3Flag': None, 'pm25Grade': '1', 'so2Flag': None, 'dataTime': '2025-09-16 23:00', 'coGrade': '1', 'no2Value': '0.024', 'stationName': '영등포로', 'pm10Grade': '1', 'o3Value': '0.023'}, {'so2Grade': '1', 'coFlag': None, 'khaiValue': '33', 'so2Value': '0.002', 'coValue': '0.4', 'pm25Flag': None, 'pm10Flag': None, 'o3Grade': '1', 'pm10Value': '12', 'khaiGrade': '1', 'pm25Value': '7', 'sidoName': '서울', 'no2Flag': None, 'no2Grade': '1', 'o3Flag': None, 'pm25Grade': '1', 'so2Flag': None, 'dataTime': '2025-09-16 23:00', 'coGrade': '1', 'no2Value': '0.018', 'stationName': '동작구', 'pm10Grade': '1', 'o3Value': '0.020'}, {'so2Grade': '1', 'coFlag': None, 'khaiValue': '44', 'so2Value': '0.002', 'coValue': '0.5', 'pm25Flag': None, 'pm10Flag': None, 'o3Grade': '1', 'pm10Value': '13', 'khaiGrade': '1', 'pm25Value': '7', 'sidoName': '서울', 'no2Flag': None, 'no2Grade': '1', 'o3Flag': None, 'pm25Grade': '1', 'so2Flag': None, 'dataTime': '2025-09-16 23:00', 'coGrade': '1', 'no2Value': '0.026', 'stationName': '동작대로 중앙차로', 'pm10Grade': '1', 'o3Value': '0.014'}, {'so2Grade': '1', 'coFlag': None, 'khaiValue': '44', 'so2Value': '0.002', 'coValue': '0.4', 'pm25Flag': None, 'pm10Flag': None, 'o3Grade': '1', 'pm10Value': '10', 'khaiGrade': '1', 'pm25Value': '8', 'sidoName': '서울', 'no2Flag': None, 'no2Grade': '1', 'o3Flag': None, 'pm25Grade': '1', 'so2Flag': None, 'dataTime': '2025-09-16 23:00', 'coGrade': '1', 'no2Value': '0.016', 'stationName': '관악구', 'pm10Grade': '1', 'o3Value': '0.026'}, {'so2Grade': '1', 'coFlag': None, 'khaiValue': '41', 'so2Value': '0.002', 'coValue': '0.4', 'pm25Flag': None, 'pm10Flag': None, 'o3Grade': '1', 'pm10Value': '11', 'khaiGrade': '1', 'pm25Value': '6', 'sidoName': '서울', 'no2Flag': None, 'no2Grade': '1', 'o3Flag': None, 'pm25Grade': '1', 'so2Flag': None, 'dataTime': '2025-09-16 23:00', 'coGrade': '1', 'no2Value': '0.025', 'stationName': '강남구', 'pm10Grade': '1', 'o3Value': '0.013'}, {'so2Grade': '1', 'coFlag': None, 'khaiValue': '47', 'so2Value': '0.002', 'coValue': '0.3', 'pm25Flag': None, 'pm10Flag': None, 'o3Grade': '1', 'pm10Value': '8', 'khaiGrade': '1', 'pm25Value': '2', 'sidoName': '서울', 'no2Flag': None, 'no2Grade': '1', 'o3Flag': None, 'pm25Grade': '1', 'so2Flag': None, 'dataTime': '2025-09-16 23:00', 'coGrade': '1', 'no2Value': '0.014', 'stationName': '서초구', 'pm10Grade': '1', 'o3Value': '0.028'}, {'so2Grade': '1', 'coFlag': None, 'khaiValue': '48', 'so2Value': '0.002', 'coValue': '0.6', 'pm25Flag': None, 'pm10Flag': None, 'o3Grade': '1', 'pm10Value': '34', 'khaiGrade': '1', 'pm25Value': '3', 'sidoName': '서울', 'no2Flag': None, 'no2Grade': '1', 'o3Flag': None, 'pm25Grade': '1', 'so2Flag': None, 'dataTime': '2025-09-16 23:00', 'coGrade': '1', 'no2Value': '0.012', 'stationName': '도산대로', 'pm10Grade': '1', 'o3Value': '0.029'}, {'so2Grade': '1', 'coFlag': None, 'khaiValue': '41', 'so2Value': '0.002', 'coValue': '0.7', 'pm25Flag': None, 'pm10Flag': None, 'o3Grade': '1', 'pm10Value': '6', 'khaiGrade': '1', 'pm25Value': '3', 'sidoName': '서울', 'no2Flag': None, 'no2Grade': '1', 'o3Flag': None, 'pm25Grade': '1', 'so2Flag': None, 'dataTime': '2025-09-16 23:00', 'coGrade': '1', 'no2Value': '0.025', 'stationName': '강남대로', 'pm10Grade': '1', 'o3Value': '0.011'}, {'so2Grade': '1', 'coFlag': None, 'khaiValue': '34', 'so2Value': '0.002', 'coValue': '0.3', 'pm25Flag': None, 'pm10Flag': None, 'o3Grade': '1', 'pm10Value': '12', 'khaiGrade': '1', 'pm25Value': '1', 'sidoName': '서울', 'no2Flag': None, 'no2Grade': '1', 'o3Flag': None, 'pm25Grade': '1', 'so2Flag': None, 'dataTime': '2025-09-16 23:00', 'coGrade': '1', 'no2Value': '0.020', 'stationName': '송파구', 'pm10Grade': '1', 'o3Value': '0.017'}, {'so2Grade': '1', 'coFlag': None, 'khaiValue': '38', 'so2Value': '0.002', 'coValue': '0.7', 'pm25Flag': None, 'pm10Flag': None, 'o3Grade': '1', 'pm10Value': '10', 'khaiGrade': '1', 'pm25Value': '3', 'sidoName': '서울', 'no2Flag': None, 'no2Grade': '1', 'o3Flag': None, 'pm25Grade': '1', 'so2Flag': None, 'dataTime': '2025-09-16 23:00', 'coGrade': '1', 'no2Value': '0.014', 'stationName': '강동구', 'pm10Grade': '1', 'o3Value': '0.023'}, {'so2Grade': '1', 'coFlag': None, 'khaiValue': '37', 'so2Value': '0.002', 'coValue': '0.5', 'pm25Flag': None, 'pm10Flag': None, 'o3Grade': '1', 'pm10Value': '7', 'khaiGrade': '1', 'pm25Value': '5', 'sidoName': '서울', 'no2Flag': None, 'no2Grade': '1', 'o3Flag': None, 'pm25Grade': '1', 'so2Flag': None, 'dataTime': '2025-09-16 23:00', 'coGrade': '1', 'no2Value': '0.022', 'stationName': '천호대로', 'pm10Grade': '1', 'o3Value': '0.014'}, {'so2Grade': '1', 'coFlag': None, 'khaiValue': '40', 'so2Value': '0.003', 'coValue': '0.3', 'pm25Flag': None, 'pm10Flag': None, 'o3Grade': '1', 'pm10Value': '12', 'khaiGrade': '1', 'pm25Value': '7', 'sidoName': '서울', 'no2Flag': None, 'no2Grade': '1', 'o3Flag': None, 'pm25Grade': '1', 'so2Flag': None, 'dataTime': '2025-09-16 23:00', 'coGrade': '1', 'no2Value': '0.017', 'stationName': '금천구', 'pm10Grade': '1', 'o3Value': '0.024'}, {'so2Grade': '1', 'coFlag': None, 'khaiValue': '56', 'so2Value': '0.003', 'coValue': '0.5', 'pm25Flag': None, 'pm10Flag': None, 'o3Grade': '1', 'pm10Value': '13', 'khaiGrade': '2', 'pm25Value': '6', 'sidoName': '서울', 'no2Flag': None, 'no2Grade': '2', 'o3Flag': None, 'pm25Grade': '1', 'so2Flag': None, 'dataTime': '2025-09-16 23:00', 'coGrade': '1', 'no2Value': '0.033', 'stationName': '시흥대로', 'pm10Grade': '1', 'o3Value': '0.012'}, {'so2Grade': '1', 'coFlag': None, 'khaiValue': '27', 'so2Value': '0.002', 'coValue': '0.4', 'pm25Flag': None, 'pm10Flag': None, 'o3Grade': '1', 'pm10Value': '19', 'khaiGrade': '1', 'pm25Value': '5', 'sidoName': '서울', 'no2Flag': None, 'no2Grade': '1', 'o3Flag': None, 'pm25Grade': '1', 'so2Flag': None, 'dataTime': '2025-09-16 23:00', 'coGrade': '1', 'no2Value': '0.014', 'stationName': '강북구', 'pm10Grade': '1', 'o3Value': '0.012'}, {'so2Grade': '1', 'coFlag': None, 'khaiValue': '49', 'so2Value': '0.002', 'coValue': '0.3', 'pm25Flag': None, 'pm10Flag': None, 'o3Grade': '1', 'pm10Value': '14', 'khaiGrade': '1', 'pm25Value': '4', 'sidoName': '서울', 'no2Flag': None, 'no2Grade': '1', 'o3Flag': None, 'pm25Grade': '1', 'so2Flag': None, 'dataTime': '2025-09-16 23:00', 'coGrade': '1', 'no2Value': '0.016', 'stationName': '양천구', 'pm10Grade': '1', 'o3Value': '0.029'}, {'so2Grade': '1', 'coFlag': None, 'khaiValue': '31', 'so2Value': '0.002', 'coValue': '0.4', 'pm25Flag': None, 'pm10Flag': None, 'o3Grade': '1', 'pm10Value': '11', 'khaiGrade': '1', 'pm25Value': '5', 'sidoName': '서울', 'no2Flag': None, 'no2Grade': '1', 'o3Flag': None, 'pm25Grade': '1', 'so2Flag': None, 'dataTime': '2025-09-16 23:00', 'coGrade': '1', 'no2Value': '0.018', 'stationName': '노원구', 'pm10Grade': '1', 'o3Value': '0.018'}, {'so2Grade': '1', 'coFlag': None, 'khaiValue': '49', 'so2Value': '0.002', 'coValue': '0.5', 'pm25Flag': None, 'pm10Flag': None, 'o3Grade': '1', 'pm10Value': '13', 'khaiGrade': '1', 'pm25Value': '6', 'sidoName': '서울', 'no2Flag': None, 'no2Grade': '1', 'o3Flag': None, 'pm25Grade': '1', 'so2Flag': None, 'dataTime': '2025-09-16 23:00', 'coGrade': '1', 'no2Value': '0.029', 'stationName': '화랑로', 'pm10Grade': '1', 'o3Value': '0.013'}], 'pageNo': 1, 'numOfRows': 100}, 'header': {'resultMsg': 'NORMAL_CODE', 'resultCode': '00'}}}\n"
          ]
        }
      ]
    }
  ]
}